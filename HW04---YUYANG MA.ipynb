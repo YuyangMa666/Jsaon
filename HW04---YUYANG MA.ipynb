{
 "cells": [
  {
   "cell_type": "markdown",
   "id": "add5355c",
   "metadata": {},
   "source": [
    "### 1. The \"Pre-lecture\" video (above) mentioned the \"standard error of the mean\" as being the \"standard deviation\" of the distribution bootstrapped means.  What is the difference between the \"standard error of the mean\" and the \"standard deviation\" of the original data? What distinct ideas do each of these capture? Explain this concisely in your own words.<br>\n"
   ]
  },
  {
   "cell_type": "markdown",
   "id": "c64530ae",
   "metadata": {},
   "source": [
    "$$\n",
    "\\text{SD} = \\sqrt{\\frac{1}{N} \\sum_{i=1}^{N} (x_i - \\bar{x})^2}\n",
    "$$\n"
   ]
  },
  {
   "cell_type": "markdown",
   "id": "411d64af",
   "metadata": {},
   "source": [
    "It measures the variability or spread of individual data points in a dataset around the mean. It tells you how spread out the data points are.If the standard deviation is large, the data points are widely scattered around the mean; if it's small, the data points are closer to the mean."
   ]
  },
  {
   "cell_type": "markdown",
   "id": "d353f2be",
   "metadata": {},
   "source": [
    "$$\n",
    "\\text{SEM} = \\frac{\\text{SD}}{\\sqrt{N}}\n",
    "$$\n"
   ]
  },
  {
   "cell_type": "markdown",
   "id": "9affef7a",
   "metadata": {},
   "source": [
    "It measures the precision of the sample mean estimate as an estimate of the population mean. It tells you how much the sample mean would vary if you repeated the experiment many times."
   ]
  },
  {
   "cell_type": "markdown",
   "id": "c987e9c4",
   "metadata": {},
   "source": [
    "Difference：SD describes the spread of individual data points in the sample, while SEM describes the precision of the sample mean as an estimate of the population mean. SEM is always smaller than SD for the same dataset, and it decreases as the sample size N increases."
   ]
  },
  {
   "cell_type": "markdown",
   "id": "42cf128c",
   "metadata": {},
   "source": [
    "CHATGPT LINK:https://chatgpt.com/share/66ff1302-1f58-800d-a85c-e547bfb2ba36"
   ]
  },
  {
   "cell_type": "markdown",
   "id": "cd55fec0",
   "metadata": {},
   "source": [
    "### 2. The \"Pre-lecture\" video (above) suggested that the \"standard error of the mean\" could be used to create a confidence interval, but didn't describe exactly how to do this.  How can we use the \"standard error of the mean\" to create a 95% confidence interval which \"covers 95% of the bootstrapped sample means\"? Explain this concisely in your own words.<br>"
   ]
  },
  {
   "cell_type": "markdown",
   "id": "d22d9bdf",
   "metadata": {},
   "source": [
    "1. Gather the Necessary Information\n",
    "Sample Mean (The average of your sample data.\n",
    "Standard Error of the Mean (SEM): This is the estimated standard deviation of the sample mean\n",
    "$\\text{SEM} = \\frac{\\sigma}{\\sqrt{n}}$\n",
    "2. Calculate the Margin of Error (ME)\n",
    "The margin of error is the amount added or subtracted from the sample mean to create the confidence interval. \n",
    "$\\text{Margin of Error (ME)} = Z \\times \\text{SEM}$\n",
    "3. Construct the Confidence Interval\n",
    "The confidence interval is constructed as:$\n",
    "\\left( \\bar{X} - \\text{ME}, \\bar{X} + \\text{ME} \\right)$\n"
   ]
  },
  {
   "cell_type": "markdown",
   "id": "01993b8c",
   "metadata": {},
   "source": [
    "https://chatgpt.com/share/66ff189a-aec4-800d-b4b1-9f0941854c68"
   ]
  },
  {
   "cell_type": "markdown",
   "id": "68435561",
   "metadata": {},
   "source": [
    "### 3. Creating the \"sample mean plus and minus about 2 times the standard error\" confidence interval addressed in the previous problem should indeed cover approximately 95% of the bootstrapped sample means. Alternatively, how do we create a 95% bootstrapped confidence interval using the bootstrapped means (without using their standard deviation to estimate the standard error of the mean)? Explain this concisely in your own words.<br>"
   ]
  },
  {
   "cell_type": "markdown",
   "id": "384cfdc1",
   "metadata": {},
   "source": [
    "1. Generate Bootstrap Samples\n",
    "From your original dataset, create a large number of bootstrap resamples. A typical number of bootstrap samples is 1,000 or more.\n",
    "Each bootstrap sample is obtained by randomly sampling from the original data. Each bootstrap sample should be the same size as the original dataset.\n",
    "2. Compute Bootstrap Sample Means\n",
    "For each of the bootstrap samples, compute the sample mean. This will give you a distribution of bootstrapped sample means.\n",
    "3. Sort the Bootstrap Sample Means\n",
    "Once you have the distribution of bootstrapped means, sort the bootstrapped means in ascending order.\n",
    "4. Determine the Percentiles\n",
    "To create a 95% confidence interval, you want to exclude the lower 2.5% and upper 2.5% of the bootstrapped means. This can be done by finding the 2.5th percentile and the 97.5th percentile of the sorted bootstrapped means.\n",
    "These percentiles mark the bounds of the 95% confidence interval.\n",
    "5. Report the Confidence Interval\n",
    "The 95% bootstrapped confidence interval is the range between the 2.5th percentile and the 97.5th percentile of the bootstrapped means."
   ]
  },
  {
   "cell_type": "markdown",
   "id": "7864360d",
   "metadata": {},
   "source": [
    "### 4. The \"Pre-lecture\" video (above) mentioned that bootstrap confidence intervals could apply to other statistics of the sample, such as the \"median\". Work with a ChatBot to create code to produce a 95% bootstrap confidence interval for a population mean based on a sample that you have and comment the code to demonstrate how the code can be changed to produce a 95% bootstrap confidence interval for different population parameter (other than the population mean, such as the population median).<br>\n"
   ]
  },
  {
   "cell_type": "code",
   "execution_count": 4,
   "id": "6d49aadc",
   "metadata": {},
   "outputs": [
    {
     "name": "stdout",
     "output_type": "stream",
     "text": [
      "95% Bootstrap Confidence Interval for the Mean: (11.2, 13.4)\n"
     ]
    }
   ],
   "source": [
    "import numpy as np\n",
    "\n",
    "# Function to generate bootstrap samples and compute the bootstrap confidence interval\n",
    "def bootstrap_confidence_interval(data, num_bootstrap_samples=1000, statistic=np.mean, ci=95):\n",
    "    \"\"\"\n",
    "    Compute the bootstrap confidence interval for a population parameter (e.g., mean, median).\n",
    "    \n",
    "    Parameters:\n",
    "    - data: The original sample data.\n",
    "    - num_bootstrap_samples: Number of bootstrap resamples to generate (default: 1000).\n",
    "    - statistic: The population statistic to compute (default: np.mean).\n",
    "    - ci: The confidence level (default: 95).\n",
    "    \n",
    "    Returns:\n",
    "    - lower_bound: Lower bound of the confidence interval.\n",
    "    - upper_bound: Upper bound of the confidence interval.\n",
    "    \"\"\"\n",
    "    \n",
    "    # List to store the bootstrap sample statistics (e.g., means or medians)\n",
    "    bootstrap_statistics = []\n",
    "    \n",
    "    # Generate bootstrap samples\n",
    "    for _ in range(num_bootstrap_samples):\n",
    "        # Create a bootstrap sample by sampling with replacement from the data\n",
    "        bootstrap_sample = np.random.choice(data, size=len(data), replace=True)\n",
    "        # Compute the statistic (mean by default) for the bootstrap sample\n",
    "        bootstrap_statistics.append(statistic(bootstrap_sample))\n",
    "    \n",
    "    # Sort the bootstrap sample statistics\n",
    "    sorted_bootstrap_statistics = np.sort(bootstrap_statistics)\n",
    "    \n",
    "    # Compute the lower and upper percentiles for the confidence interval\n",
    "    lower_percentile = (100 - ci) / 2\n",
    "    upper_percentile = 100 - lower_percentile\n",
    "    lower_bound = np.percentile(sorted_bootstrap_statistics, lower_percentile)\n",
    "    upper_bound = np.percentile(sorted_bootstrap_statistics, upper_percentile)\n",
    "    \n",
    "    return lower_bound, upper_bound\n",
    "\n",
    "# Example usage with sample data to compute 95% CI for the mean\n",
    "data = [10, 12, 9, 14, 15, 13, 11, 12, 14, 13]  # Example sample data\n",
    "ci_mean = bootstrap_confidence_interval(data)\n",
    "print(f\"95% Bootstrap Confidence Interval for the Mean: {ci_mean}\")\n",
    "\n",
    "# To compute a 95% bootstrap confidence interval for the median, change\n"
   ]
  },
  {
   "cell_type": "markdown",
   "id": "d65b25ad",
   "metadata": {},
   "source": [
    "https://chatgpt.com/share/66ff189a-aec4-800d-b4b1-9f0941854c68"
   ]
  },
  {
   "cell_type": "markdown",
   "id": "0f4fa47a",
   "metadata": {},
   "source": [
    "### 5. The previous question addresses making a confidence interval for a population parameter based on a sample statistic. Why do we need to distinguish between the role of the popualation parameter and the sample sample statistic when it comes to confidence intervals? Explain this concisely in your own words.<br>\n"
   ]
  },
  {
   "cell_type": "markdown",
   "id": "560b6f14",
   "metadata": {},
   "source": [
    "Sample statistics vary from sample to sample, but the population parameter is fixed. Therefore, when we construct a confidence interval, we are using a random, variable sample statistic to estimate a fixed, unknown population parameter. The confidence interval is built around the sample statistic to infer about the population parameter. The population parameter is what we are trying to estimate, while the sample statistic is the tool we use to do so."
   ]
  },
  {
   "cell_type": "markdown",
   "id": "0d435d67",
   "metadata": {},
   "source": [
    "### 6. Provide written answers explaining the answers to the following questions in an informal manner of a conversation with a friend with little experience with statistics. <br>\n"
   ]
  },
  {
   "cell_type": "markdown",
   "id": "3e54739e",
   "metadata": {},
   "source": [
    "Use the smaple to estimate the distribution of data when we do not know the number and parameter.\n",
    "Now, the sample statistic is what we get from a smaller group of people we can measure. This statistic, like the sample mean, is our best guess of the population parameter. But since it’s based on a limited group of people, it’s just an estimate.\n",
    "\n",
    "When we build a confidence interval, we’re taking that sample statistic and creating a range around it, based on this sample, we think the real population value falls somewhere in this range.\n",
    "\n",
    "We have to distinguish between the two because the population parameter is a fixed number we’re trying to estimate, but the sample statistic can change depending on the sample we choose. The confidence interval uses the sample statistic as a starting point to make an educated guess about the population parameter."
   ]
  },
  {
   "cell_type": "markdown",
   "id": "baaef554",
   "metadata": {},
   "source": [
    "### 7. The \"Pre-lecture\" video (above) introduced hypothesis testing by saying that \"the confidence interval covers zero, so we cannot reject the hypothesis that the drug is **[on average]** not doing anything\".  This conclusion could be referred to as \"failing to reject the null hypothesis\", where the term \"null\" refers to the concept of \"no effect **[on average]**\".  Why does a confidence interval overlapping zero \"fail to reject the null hypothesis\" when the observed sample mean statistic itself is not zero? Alternatively, what would lead to the opposite conclusion in this context; namely, instead choosing \"to reject the null hypothesis\"? Explain the answers to these questions concisely in your own words.<br>"
   ]
  },
  {
   "cell_type": "markdown",
   "id": "23b308ae",
   "metadata": {},
   "source": [
    "If the confidence interval does not include zero, we infer that zero is outside the plausible range for the true effect. This exclusion means that zero is an unlikely value for the true population parameter. Therefore, we have strong evidence that the effect is different from zero, leading us to reject the null hypothesis. Rejecting the null hypothesis implies that the observed effect is statistically significant at the chosen confidence level (e.g., 95%). This significance suggests that the effect observed in the sample is likely present in the population, beyond just random variation.In summary, a confidence interval that does not include zero provides evidence against the null hypothesis (no effect), while an interval that includes zero suggests that we cannot rule out the possibility of no effect, thus failing to reject the null hypothesis.\n"
   ]
  },
  {
   "cell_type": "markdown",
   "id": "f0a80338",
   "metadata": {},
   "source": [
    "### 8. Complete the following assignment. "
   ]
  },
  {
   "cell_type": "code",
   "execution_count": 2,
   "id": "c561b893",
   "metadata": {},
   "outputs": [
    {
     "name": "stdout",
     "output_type": "stream",
     "text": [
      "   PatientID  Age Gender  InitialHealthScore  FinalHealthScore\n",
      "0          1   45      M                  84                86\n",
      "1          2   34      F                  78                86\n",
      "2          3   29      M                  83                80\n",
      "3          4   52      F                  81                86\n",
      "4          5   37      M                  81                84\n",
      "5          6   41      F                  80                86\n",
      "6          7   33      M                  79                86\n",
      "7          8   48      F                  85                82\n",
      "8          9   26      M                  76                83\n",
      "9         10   39      F                  83                84\n"
     ]
    }
   ],
   "source": [
    "import pandas as pd\n",
    "\n",
    "# Define the data\n",
    "data = {\n",
    "    'PatientID': [1, 2, 3, 4, 5, 6, 7, 8, 9, 10],\n",
    "    'Age': [45, 34, 29, 52, 37, 41, 33, 48, 26, 39],\n",
    "    'Gender': ['M', 'F', 'M', 'F', 'M', 'F', 'M', 'F', 'M', 'F'],\n",
    "    'InitialHealthScore': [84, 78, 83, 81, 81, 80, 79, 85, 76, 83],\n",
    "    'FinalHealthScore': [86, 86, 80, 86, 84, 86, 86, 82, 83, 84]\n",
    "}\n",
    "\n",
    "# Create the DataFrame\n",
    "df = pd.DataFrame(data)\n",
    "\n",
    "# Display the DataFrame\n",
    "print(df)\n"
   ]
  },
  {
   "cell_type": "code",
   "execution_count": 1,
   "id": "bc95419b",
   "metadata": {
    "scrolled": true
   },
   "outputs": [
    {
     "data": {
      "image/png": "[encoded data removed]",
      "text/plain": [
       "<Figure size 1000x500 with 1 Axes>"
      ]
     },
     "metadata": {},
     "output_type": "display_data"
    }
   ],
   "source": [
    "import pandas as pd\n",
    "import matplotlib.pyplot as plt\n",
    "\n",
    "# Define the data\n",
    "data = {\n",
    "    'PatientID': [1, 2, 3, 4, 5, 6, 7, 8, 9, 10],\n",
    "    'Age': [45, 34, 29, 52, 37, 41, 33, 48, 26, 39],\n",
    "    'Gender': ['M', 'F', 'M', 'F', 'M', 'F', 'M', 'F', 'M', 'F'],\n",
    "    'InitialHealthScore': [84, 78, 83, 81, 81, 80, 79, 85, 76, 83],\n",
    "    'FinalHealthScore': [86, 86, 80, 86, 84, 86, 86, 82, 83, 84]\n",
    "}\n",
    "\n",
    "# Create the DataFrame\n",
    "df = pd.DataFrame(data)\n",
    "\n",
    "# Plot histograms for InitialHealthScore and FinalHealthScore\n",
    "plt.figure(figsize=(10, 5))\n",
    "\n",
    "# Histogram for InitialHealthScore\n",
    "plt.hist(df['InitialHealthScore'], bins=5, alpha=0.5, label='Initial Health Score', color='blue')\n",
    "\n",
    "# Histogram for FinalHealthScore\n",
    "plt.hist(df['FinalHealthScore'], bins=5, alpha=0.5, label='Final Health Score', color='green')\n",
    "\n",
    "# Add labels and legend\n",
    "plt.xlabel('Health Score')\n",
    "plt.ylabel('Frequency')\n",
    "plt.title('Histogram of Initial and Final Health Scores')\n",
    "plt.legend()\n",
    "\n",
    "# Display the plot\n",
    "plt.show()\n"
   ]
  },
  {
   "cell_type": "code",
   "execution_count": 7,
   "id": "e3803c26",
   "metadata": {},
   "outputs": [
    {
     "data": {
      "text/plain": [
       "(3.3, array([0.8, 5.5]), True)"
      ]
     },
     "execution_count": 7,
     "metadata": {},
     "output_type": "execute_result"
    }
   ],
   "source": [
    "import numpy as np\n",
    "import pandas as pd\n",
    "\n",
    "# Creating the DataFrame\n",
    "data = {\n",
    "    \"PatientID\": [1, 2, 3, 4, 5, 6, 7, 8, 9, 10],\n",
    "    \"Age\": [45, 34, 29, 52, 37, 41, 33, 48, 26, 39],\n",
    "    \"Gender\": [\"M\", \"F\", \"M\", \"F\", \"M\", \"F\", \"M\", \"F\", \"M\", \"F\"],\n",
    "    \"InitialHealthScore\": [84, 78, 83, 81, 81, 80, 79, 85, 76, 83],\n",
    "    \"FinalHealthScore\": [86, 86, 80, 86, 84, 86, 86, 82, 83, 84]\n",
    "}\n",
    "df = pd.DataFrame(data)\n",
    "\n",
    "# Calculate the mean difference between FinalHealthScore and InitialHealthScore\n",
    "df[\"HealthScoreDifference\"] = df[\"FinalHealthScore\"] - df[\"InitialHealthScore\"]\n",
    "mean_diff = df[\"HealthScoreDifference\"].mean()\n",
    "\n",
    "# Bootstrapping\n",
    "n_iterations = 10000\n",
    "bootstrap_means = np.random.choice(df[\"HealthScoreDifference\"], (n_iterations, len(df)), replace=True).mean(axis=1)\n",
    "\n",
    "# Confidence Interval (95%)\n",
    "confidence_interval = np.percentile(bootstrap_means, [2.5, 97.5])\n",
    "\n",
    "# Checking if H0 is accepted or rejected\n",
    "h0_rejected = not (confidence_interval[0] <= 0 <= confidence_interval[1])\n",
    "\n",
    "mean_diff, confidence_interval, h0_rejected\n"
   ]
  },
  {
   "cell_type": "markdown",
   "id": "3803339d",
   "metadata": {},
   "source": [
    "Since this confidence interval does not include zero, we reject the null hypothesis. This indicates that there is a statistically significant difference in the health scores before and after the treatment."
   ]
  },
  {
   "cell_type": "markdown",
   "id": "9dc9f6eb",
   "metadata": {},
   "source": [
    "Reject H0, the treatment is ineffective."
   ]
  },
  {
   "cell_type": "markdown",
   "id": "38700a6b",
   "metadata": {},
   "source": [
    "9. YES"
   ]
  },
  {
   "cell_type": "code",
   "execution_count": null,
   "id": "0ae45eb4",
   "metadata": {},
   "outputs": [],
   "source": []
  }
 ],
 "metadata": {
  "kernelspec": {
   "display_name": "Python 3 (ipykernel)",
   "language": "python",
   "name": "python3"
  },
  "language_info": {
   "codemirror_mode": {
    "name": "ipython",
    "version": 3
   },
   "file_extension": ".py",
   "mimetype": "text/x-python",
   "name": "python",
   "nbconvert_exporter": "python",
   "pygments_lexer": "ipython3",
   "version": "3.11.6"
  }
 },
 "nbformat": 4,
 "nbformat_minor": 5
}
