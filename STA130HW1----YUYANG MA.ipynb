{
 "cells": [
  {
   "cell_type": "markdown",
   "id": "c6403b88",
   "metadata": {},
   "source": [
    "#### 1. Pick one of the datasets from the ChatBot session(s) of the **TUT demo** (or from your own ChatBot session if you wish) and use the code produced through the ChatBot interactions to import the data and confirm that the dataset has missing values<br>\n"
   ]
  },
  {
   "cell_type": "code",
   "execution_count": 1,
   "id": "dbdd5d37",
   "metadata": {},
   "outputs": [
    {
     "data": {
      "text/plain": [
       "row_n           0\n",
       "id              1\n",
       "name            0\n",
       "gender          0\n",
       "species         0\n",
       "birthday        0\n",
       "personality     0\n",
       "song           11\n",
       "phrase          0\n",
       "full_id         0\n",
       "url             0\n",
       "dtype: int64"
      ]
     },
     "execution_count": 1,
     "metadata": {},
     "output_type": "execute_result"
    }
   ],
   "source": [
    "# feel free to just use the following if you prefer...\n",
    "import pandas as pd\n",
    "url = \"https://raw.githubusercontent.com/rfordatascience/tidytuesday/master/data/2020/2020-05-05/villagers.csv\"\n",
    "df = pd.read_csv(url)\n",
    "df.isna().sum()"
   ]
  },
  {
   "cell_type": "markdown",
   "id": "0a1f108f",
   "metadata": {},
   "source": [
    "#### 2. Start a new ChatBot session with an initial prompt introducing the dataset you're using and request help to determine how many columns and rows of data a `pandas` DataFrame has, and then\n",
    "\n",
    "1. use code provided in your ChatBot session to print out the number of rows and columns of the dataset; and,  \n",
    "2. write your own general definitions of the meaning of \"observations\" and \"variables\" based on asking the ChatBot to explain these terms in the context of your dataset<br>"
   ]
  },
  {
   "cell_type": "code",
   "execution_count": 2,
   "id": "4432b0b3",
   "metadata": {},
   "outputs": [
    {
     "data": {
      "text/plain": [
       "(391, 11)"
      ]
     },
     "execution_count": 2,
     "metadata": {},
     "output_type": "execute_result"
    }
   ],
   "source": [
    "df.shape"
   ]
  },
  {
   "cell_type": "markdown",
   "id": "740651a1",
   "metadata": {},
   "source": [
    "Observations are rows in the dataset and they represent individual cases or records.Each observation corresponds to a single row in a data table or DataFrame.\n",
    "Variables are columns in the dataset and the represent attributes or characteristics measured for each observation.They can describe different sides of the data and can be used to analyze relationships, patterns, and trends.\n"
   ]
  },
  {
   "cell_type": "markdown",
   "id": "1c5d61a9",
   "metadata": {},
   "source": [
    "#### 3. Ask the ChatBot how you can provide simple summaries of the columns in the dataset and use the suggested code to provide these summaries for your dataset<br>"
   ]
  },
  {
   "cell_type": "code",
   "execution_count": 3,
   "id": "929c872e",
   "metadata": {},
   "outputs": [
    {
     "data": {
      "text/html": [
       "<div>\n",
       "<style scoped>\n",
       "    .dataframe tbody tr th:only-of-type {\n",
       "        vertical-align: middle;\n",
       "    }\n",
       "\n",
       "    .dataframe tbody tr th {\n",
       "        vertical-align: top;\n",
       "    }\n",
       "\n",
       "    .dataframe thead th {\n",
       "        text-align: right;\n",
       "    }\n",
       "</style>\n",
       "<table border=\"1\" class=\"dataframe\">\n",
       "  <thead>\n",
       "    <tr style=\"text-align: right;\">\n",
       "      <th></th>\n",
       "      <th>row_n</th>\n",
       "    </tr>\n",
       "  </thead>\n",
       "  <tbody>\n",
       "    <tr>\n",
       "      <th>count</th>\n",
       "      <td>391.000000</td>\n",
       "    </tr>\n",
       "    <tr>\n",
       "      <th>mean</th>\n",
       "      <td>239.902813</td>\n",
       "    </tr>\n",
       "    <tr>\n",
       "      <th>std</th>\n",
       "      <td>140.702672</td>\n",
       "    </tr>\n",
       "    <tr>\n",
       "      <th>min</th>\n",
       "      <td>2.000000</td>\n",
       "    </tr>\n",
       "    <tr>\n",
       "      <th>25%</th>\n",
       "      <td>117.500000</td>\n",
       "    </tr>\n",
       "    <tr>\n",
       "      <th>50%</th>\n",
       "      <td>240.000000</td>\n",
       "    </tr>\n",
       "    <tr>\n",
       "      <th>75%</th>\n",
       "      <td>363.500000</td>\n",
       "    </tr>\n",
       "    <tr>\n",
       "      <th>max</th>\n",
       "      <td>483.000000</td>\n",
       "    </tr>\n",
       "  </tbody>\n",
       "</table>\n",
       "</div>"
      ],
      "text/plain": [
       "            row_n\n",
       "count  391.000000\n",
       "mean   239.902813\n",
       "std    140.702672\n",
       "min      2.000000\n",
       "25%    117.500000\n",
       "50%    240.000000\n",
       "75%    363.500000\n",
       "max    483.000000"
      ]
     },
     "execution_count": 3,
     "metadata": {},
     "output_type": "execute_result"
    }
   ],
   "source": [
    "df.describe()"
   ]
  },
  {
   "cell_type": "code",
   "execution_count": 4,
   "id": "f84cb017",
   "metadata": {},
   "outputs": [
    {
     "data": {
      "text/plain": [
       "row_n           0\n",
       "id              1\n",
       "name            0\n",
       "gender          0\n",
       "species         0\n",
       "birthday        0\n",
       "personality     0\n",
       "song           11\n",
       "phrase          0\n",
       "full_id         0\n",
       "url             0\n",
       "dtype: int64"
      ]
     },
     "execution_count": 4,
     "metadata": {},
     "output_type": "execute_result"
    }
   ],
   "source": [
    "df.isna().sum()"
   ]
  },
  {
   "cell_type": "code",
   "execution_count": 6,
   "id": "bfef26dc",
   "metadata": {},
   "outputs": [
    {
     "data": {
      "text/html": [
       "<div>\n",
       "<style scoped>\n",
       "    .dataframe tbody tr th:only-of-type {\n",
       "        vertical-align: middle;\n",
       "    }\n",
       "\n",
       "    .dataframe tbody tr th {\n",
       "        vertical-align: top;\n",
       "    }\n",
       "\n",
       "    .dataframe thead th {\n",
       "        text-align: right;\n",
       "    }\n",
       "</style>\n",
       "<table border=\"1\" class=\"dataframe\">\n",
       "  <thead>\n",
       "    <tr style=\"text-align: right;\">\n",
       "      <th></th>\n",
       "      <th>id</th>\n",
       "      <th>name</th>\n",
       "      <th>gender</th>\n",
       "      <th>species</th>\n",
       "      <th>birthday</th>\n",
       "      <th>personality</th>\n",
       "      <th>song</th>\n",
       "      <th>phrase</th>\n",
       "      <th>full_id</th>\n",
       "      <th>url</th>\n",
       "    </tr>\n",
       "  </thead>\n",
       "  <tbody>\n",
       "    <tr>\n",
       "      <th>count</th>\n",
       "      <td>390</td>\n",
       "      <td>391</td>\n",
       "      <td>391</td>\n",
       "      <td>391</td>\n",
       "      <td>391</td>\n",
       "      <td>391</td>\n",
       "      <td>380</td>\n",
       "      <td>391</td>\n",
       "      <td>391</td>\n",
       "      <td>391</td>\n",
       "    </tr>\n",
       "    <tr>\n",
       "      <th>unique</th>\n",
       "      <td>390</td>\n",
       "      <td>391</td>\n",
       "      <td>2</td>\n",
       "      <td>35</td>\n",
       "      <td>361</td>\n",
       "      <td>8</td>\n",
       "      <td>92</td>\n",
       "      <td>388</td>\n",
       "      <td>391</td>\n",
       "      <td>391</td>\n",
       "    </tr>\n",
       "    <tr>\n",
       "      <th>top</th>\n",
       "      <td>admiral</td>\n",
       "      <td>Admiral</td>\n",
       "      <td>male</td>\n",
       "      <td>cat</td>\n",
       "      <td>1-27</td>\n",
       "      <td>lazy</td>\n",
       "      <td>K.K. Country</td>\n",
       "      <td>wee one</td>\n",
       "      <td>villager-admiral</td>\n",
       "      <td>https://villagerdb.com/images/villagers/thumb/...</td>\n",
       "    </tr>\n",
       "    <tr>\n",
       "      <th>freq</th>\n",
       "      <td>1</td>\n",
       "      <td>1</td>\n",
       "      <td>204</td>\n",
       "      <td>23</td>\n",
       "      <td>2</td>\n",
       "      <td>60</td>\n",
       "      <td>10</td>\n",
       "      <td>2</td>\n",
       "      <td>1</td>\n",
       "      <td>1</td>\n",
       "    </tr>\n",
       "  </tbody>\n",
       "</table>\n",
       "</div>"
      ],
      "text/plain": [
       "             id     name gender species birthday personality          song  \\\n",
       "count       390      391    391     391      391         391           380   \n",
       "unique      390      391      2      35      361           8            92   \n",
       "top     admiral  Admiral   male     cat     1-27        lazy  K.K. Country   \n",
       "freq          1        1    204      23        2          60            10   \n",
       "\n",
       "         phrase           full_id  \\\n",
       "count       391               391   \n",
       "unique      388               391   \n",
       "top     wee one  villager-admiral   \n",
       "freq          2                 1   \n",
       "\n",
       "                                                      url  \n",
       "count                                                 391  \n",
       "unique                                                391  \n",
       "top     https://villagerdb.com/images/villagers/thumb/...  \n",
       "freq                                                    1  "
      ]
     },
     "execution_count": 6,
     "metadata": {},
     "output_type": "execute_result"
    }
   ],
   "source": [
    "df.describe(include=['object'])"
   ]
  },
  {
   "cell_type": "markdown",
   "id": "406013df",
   "metadata": {},
   "source": [
    "#### 4. If the dataset you're using has (a) non-numeric variables and (b) missing values in numeric variables, explain (perhaps using help from a ChatBot if needed) the discrepancies between size of the dataset given by `df.shape` and what is reported by `df.describe()` with respect to (a) the number of columns it analyzes and (b) the values it reports in the \"count\" column<br>\n"
   ]
  },
  {
   "cell_type": "markdown",
   "id": "16d213f1",
   "metadata": {},
   "source": [
    "df.shape is able to provide the overall dimensions of the DataFrame, including all columns and rows.\n",
    "df.describe() can provide statistical summaries only for numeric columns and reflects the count of non-null values in those columns."
   ]
  },
  {
   "cell_type": "markdown",
   "id": "a47dc090",
   "metadata": {},
   "source": [
    "#### 5. Use your ChatBot session to help understand the difference between the following and then provide your own paraphrasing summarization of that difference"
   ]
  },
  {
   "cell_type": "markdown",
   "id": "0c035594",
   "metadata": {},
   "source": [
    "Attributes like df.shape can provide direct access to properties of an object and do not involve function calls.\n",
    "Methods like df.describe()are able to involve function calls that perform actions or computations on the object.\n"
   ]
  },
  {
   "cell_type": "markdown",
   "id": "f0464357",
   "metadata": {},
   "source": [
    "#### 6. The `df.describe()` method provides the 'count', 'mean', 'std', 'min', '25%', '50%', '75%', and 'max' summary statistics for each variable it analyzes. Give the definitions (perhaps using help from the ChatBot if needed) of each of these summary statistics<br>\n"
   ]
  },
  {
   "cell_type": "markdown",
   "id": "91d8b8f4",
   "metadata": {},
   "source": [
    "count:The number of non-null entries in the column. This indicates how many values are present for each column in the DataFrame.\n",
    "mean:The average value of the column. It is the sum of all values divided by the count of non-null values.\n",
    "std:A measure of the dispersion or spread of the values around the mean. It quantifies how much the values in the column deviate from the mean.\n",
    "min:The smallest value in the column.\n",
    "25%:The value below which 25% of the data falls. \n",
    "50%:The median value of the column. It is the middle value where 50% of the data is below and 50% is above.\n",
    "75%:The value below which 75% of the data falls. Also known as the third quartile.\n",
    "max:The largest value in the column.\n"
   ]
  },
  {
   "cell_type": "markdown",
   "id": "d4e2d56a",
   "metadata": {},
   "source": [
    "#### 7. Missing data can be considered \"across rows\" or \"down columns\".  Consider how `df.dropna()` or `del df['col']` should be applied to most efficiently use the available non-missing data in your dataset and briefly answer the following questions in your own words\n"
   ]
  },
  {
   "cell_type": "markdown",
   "id": "158fd1ba",
   "metadata": {},
   "source": [
    "1. Provide an example of a \"use case\" in which using `df.dropna()` might be peferred over using `del df['col']`<br><br>"
   ]
  },
  {
   "cell_type": "code",
   "execution_count": null,
   "id": "e733c218",
   "metadata": {},
   "outputs": [],
   "source": [
    "import pandas as pd\n",
    "\n",
    "# Sample DataFrame\n",
    "df = pd.DataFrame({\n",
    "    'age': [25, 30, 35, None, 40],\n",
    "    'income': [50000, None, 60000, 55000, None],\n",
    "    'education_level': ['Bachelor', 'Master', 'PhD', 'Bachelor', 'PhD']\n",
    "})\n",
    "\n",
    "print(\"Original DataFrame:\")\n",
    "print(df)\n",
    "\n",
    "# Drop rows where 'income' is NaN\n",
    "df_cleaned = df.dropna(subset=['income'])\n",
    "\n",
    "print(\"\\nDataFrame after dropna():\")\n",
    "print(df_cleaned)\n"
   ]
  },
  {
   "cell_type": "markdown",
   "id": "13dd3bb6",
   "metadata": {},
   "source": [
    "df.dropna() use is when you need to handle missing values in columns while preserving the rest of the data. It allows you to clean the data selectively based on missing values.\n",
    "del df['col'] use is when you want to remove an entire column from the DataFrame, irrespective of missing values, often due to the column is not relevant to your analysis.\n"
   ]
  },
  {
   "cell_type": "markdown",
   "id": "aba1425b",
   "metadata": {},
   "source": [
    "2.Provide an example of \"the opposite use case\" in which using del df['col'] might be preferred over using df.dropna()\n"
   ]
  },
  {
   "cell_type": "code",
   "execution_count": 8,
   "id": "3826e1ea",
   "metadata": {},
   "outputs": [
    {
     "name": "stdout",
     "output_type": "stream",
     "text": [
      "Original DataFrame:\n",
      "      name                email  age   income\n",
      "0    Alice    alice@example.com   25  50000.0\n",
      "1      Bob      bob@example.com   30  60000.0\n",
      "2  Charlie                 None   35      NaN\n",
      "3     None  charlie@example.com   40  55000.0\n",
      "\n",
      "DataFrame after deleting 'name' and 'email' columns:\n",
      "   age   income\n",
      "0   25  50000.0\n",
      "1   30  60000.0\n",
      "2   35      NaN\n",
      "3   40  55000.0\n"
     ]
    }
   ],
   "source": [
    "import pandas as pd\n",
    "\n",
    "# Sample DataFrame with irrelevant columns\n",
    "df = pd.DataFrame({\n",
    "    'name': ['Alice', 'Bob', 'Charlie', None],\n",
    "    'email': ['alice@example.com', 'bob@example.com', None, 'charlie@example.com'],\n",
    "    'age': [25, 30, 35, 40],\n",
    "    'income': [50000, 60000, None, 55000]\n",
    "})\n",
    "\n",
    "print(\"Original DataFrame:\")\n",
    "print(df)\n",
    "\n",
    "# Remove the 'name' and 'email' columns\n",
    "del df['name']\n",
    "del df['email']\n",
    "\n",
    "print(\"\\nDataFrame after deleting 'name' and 'email' columns:\")\n",
    "print(df)\n"
   ]
  },
  {
   "cell_type": "markdown",
   "id": "1ae7b0ac",
   "metadata": {},
   "source": [
    "del df['col'] use is when you want to completely remove entire columns that are not relevant to your analysis, regardless of their content.\n",
    "df.dropna() use is when you need to handle missing values in specific columns and keep the remaining data."
   ]
  },
  {
   "cell_type": "markdown",
   "id": "d87dd93c",
   "metadata": {},
   "source": [
    "3.Discuss why applying del df['col'] before df.dropna() when both are used together could be important"
   ]
  },
  {
   "cell_type": "markdown",
   "id": "49edeef6",
   "metadata": {},
   "source": [
    "first of all is Removing Columns: use del df['col'] to remove irrelevant columns before applying df.dropna() ensures that dropna() operates only on the relevant columns, improving both efficiency and clarity.\n",
    "next one is efficiency: decrease the size of the DataFrame, making data cleaning operations faster and more manageable.\n",
    "the last is accuracy: ensure that dropna() is applied to only the necessary columns, leading to more accurate results."
   ]
  },
  {
   "cell_type": "markdown",
   "id": "34d3a394",
   "metadata": {},
   "source": [
    "4.Remove all missing data from one of the datasets you're considering using some combination of del df['col'] and/or df.dropna() and give a justification for your approach, including a \"before and after\" report of the results of your approach for your dataset.\n"
   ]
  },
  {
   "cell_type": "markdown",
   "id": "fe0c5a82",
   "metadata": {},
   "source": [
    "Initial DataFrame is that contains missing values and potentially irrelevant columns.\n",
    "Approach:\n",
    "Remove Irrelevant Columns is using del to remove columns like name that are not needed.\n",
    "Remove Rows with Missing Values is using dropna() to ensure all remaining rows have complete data.\n",
    "Outcome is cleaned of missing values and irrelevant columns, resulting in a more focused and complete DataFrame ready for analysis."
   ]
  },
  {
   "cell_type": "markdown",
   "id": "5c5c44bf",
   "metadata": {},
   "source": [
    "#### 8. Give brief explanations in your own words for any requested answers to the questions below\n"
   ]
  },
  {
   "cell_type": "markdown",
   "id": "0c88779f",
   "metadata": {},
   "source": [
    "1.rouping: df.groupby(\"class\") divides the dataset into subsets based on the class column.\n",
    "Descriptive Statistics: .describe() provides a summary of statistics for the age column within each group.\n",
    "Use Case: This approach is useful to compare and contrast statistical measures across different categories (in this case, passenger classes) to understand how the variable of interest (age) varies by category.\n",
    "By applying df.groupby(\"class\")[\"age\"].describe(), you can gain insights into how the age distribution differs among the different passenger classes on the Titanic, which can be valuable for understanding patterns and differences within the data."
   ]
  },
  {
   "cell_type": "markdown",
   "id": "d7a80bfc",
   "metadata": {},
   "source": [
    "2.Complete Dataset vs. Grouped Analysis: df.describe() gives a broad overview of missing data in the entire dataset, while df.groupby(\"col1\")[\"col2\"].describe() provides more granular insights into missing data within specific subsets, which can be crucial for understanding group-specific issues and for targeted data cleaning or analysis.\n"
   ]
  },
  {
   "cell_type": "markdown",
   "id": "e5bac859",
   "metadata": {},
   "source": [
    "3.Ease of Use: ChatGPT provides immediate, context-aware help and can guide you through troubleshooting in real-time. This is particularly useful for understanding and fixing errors interactively.\n",
    "Depth of Information: Google searches offer extensive resources and can be very useful for finding detailed solutions and understanding complex issues. It is often better for broader or more specific queries not limited to immediate troubleshooting.\n"
   ]
  }
 ],
 "metadata": {
  "kernelspec": {
   "display_name": "Python 3 (ipykernel)",
   "language": "python",
   "name": "python3"
  },
  "language_info": {
   "codemirror_mode": {
    "name": "ipython",
    "version": 3
   },
   "file_extension": ".py",
   "mimetype": "text/x-python",
   "name": "python",
   "nbconvert_exporter": "python",
   "pygments_lexer": "ipython3",
   "version": "3.11.6"
  }
 },
 "nbformat": 4,
 "nbformat_minor": 5
}
