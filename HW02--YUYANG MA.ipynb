{
 "cells": [
  {
   "cell_type": "markdown",
   "id": "961045e8",
   "metadata": {},
   "source": [
    "#### 1. Begin (or restart) part \"3(a)\" of the **TUT Demo** and interact with a ChatBot to make sure you understand how each part the Monte Hall problem code above works<br>"
   ]
  },
  {
   "cell_type": "code",
   "execution_count": 2,
   "id": "9a61f591",
   "metadata": {},
   "outputs": [],
   "source": [
    "import numpy as np\n",
    "all_door_options = (1,2,3)  # tuple\n",
    "my_door_choice = 1  # 1,2,3\n",
    "i_won = 0\n",
    "reps = 100000\n"
   ]
  },
  {
   "cell_type": "markdown",
   "id": "cd102372",
   "metadata": {},
   "source": [
    "import numpy as np is used for random number generation.\n",
    "all_door_options = (1, 2, 3) means the three doors (1, 2, 3).\n",
    "my_door_choice = 1 represents selecting door 1 as the contestant's choice.\n",
    "i_won = 0 means a counter to track the number of times the contestant wins (by picking the correct door after swapping).\n",
    "reps = 100000 means number of repetitions or trials to run the simulation."
   ]
  },
  {
   "cell_type": "code",
   "execution_count": 3,
   "id": "5550fed5",
   "metadata": {},
   "outputs": [],
   "source": [
    "for i in range(reps):\n",
    "    secret_winning_door = np.random.choice(all_door_options)\n"
   ]
  },
  {
   "cell_type": "markdown",
   "id": "22f3b6e1",
   "metadata": {},
   "source": [
    "A loop runs 100,000 times (the number of simulations).\n",
    "secret_winning_door = np.random.choice(all_door_options): Randomly selects the door that has the car behind it."
   ]
  },
  {
   "cell_type": "code",
   "execution_count": 4,
   "id": "b5cb502d",
   "metadata": {},
   "outputs": [],
   "source": [
    "all_door_options_list = list(all_door_options)\n",
    "all_door_options_list.remove(secret_winning_door)\n",
    "try:\n",
    "    all_door_options_list.remove(my_door_choice)\n",
    "except:\n",
    "    pass\n",
    "goat_door_reveal = np.random.choice(all_door_options_list)\n",
    "all_door_options_list.remove(goat_door_reveal)\n"
   ]
  },
  {
   "cell_type": "markdown",
   "id": "0fd3f08b",
   "metadata": {},
   "source": [
    "Converts all_door_options (a tuple) to a list.\n",
    "Removes the secret_winning_door from the list because Monty Hall cannot reveal the winning door.\n",
    "Tries to remove my_door_choice from the list if it's different from the winning door. This ensures that the contestant's chosen door is not revealed as a losing door.\n",
    "Randomly selects one of the remaining doors (goat_door_reveal) and removes it from the list, simulating Monty Hall revealing a goat behind one of the other doors."
   ]
  },
  {
   "cell_type": "code",
   "execution_count": 5,
   "id": "543a1508",
   "metadata": {},
   "outputs": [],
   "source": [
    "if secret_winning_door != my_door_choice:\n",
    "    all_door_options_list.append(secret_winning_door)\n",
    "my_door_choice = all_door_options_list[0]\n"
   ]
  },
  {
   "cell_type": "markdown",
   "id": "a73afb23",
   "metadata": {},
   "source": [
    "If the contestant's initial choice is not the secret_winning_door, the winning door is added back to the list. Otherwise, the list will contain only the door that Monty hasn't revealed.\n",
    "The contestant's new choice is the only door left in all_door_options_list, which simulates the \"switch\" strategy."
   ]
  },
  {
   "cell_type": "code",
   "execution_count": 6,
   "id": "b4960d2a",
   "metadata": {},
   "outputs": [],
   "source": [
    "if my_door_choice == secret_winning_door:\n",
    "    i_won += 1\n"
   ]
  },
  {
   "cell_type": "markdown",
   "id": "f34d1485",
   "metadata": {},
   "source": [
    "After the loop finishes, the program calculates the fraction of times the contestant won by switching doors, which approximates the probability of winning when using the \"switch\" strategy."
   ]
  },
  {
   "cell_type": "markdown",
   "id": "4a45d5b1",
   "metadata": {},
   "source": [
    "#### 2. Extend your ChatBot sessions to now address part \"3(b)\" of the **TUT Demo** and interact with your ChatBot to see if it can suggest a simpler, more streamlined way to code up this *for* loop simulation so the process is more clear and easier to understand; then, describe any preferences you have in terms of readibility or explainability  between the original code and the code improvements suggested by the ChatBot<br>\n"
   ]
  },
  {
   "cell_type": "code",
   "execution_count": 7,
   "id": "80751f36",
   "metadata": {},
   "outputs": [
    {
     "name": "stdout",
     "output_type": "stream",
     "text": [
      "Probability of winning when switching: 0.6654\n"
     ]
    }
   ],
   "source": [
    "import numpy as np\n",
    "\n",
    "# Number of trials\n",
    "reps = 100000\n",
    "\n",
    "# Counter for wins when switching doors\n",
    "switch_wins = 0\n",
    "\n",
    "for _ in range(reps):\n",
    "    # Randomly choose the winning door (1, 2, or 3)\n",
    "    winning_door = np.random.choice([1, 2, 3])\n",
    "    \n",
    "    # The contestant always picks door 1 initially\n",
    "    initial_choice = 1\n",
    "    \n",
    "    # Monty opens a door revealing a goat (one that isn't the winning door or the initial choice)\n",
    "    # If initial_choice is the winning door, Monty picks any other door\n",
    "    available_doors = [door for door in [1, 2, 3] if door != initial_choice and door != winning_door]\n",
    "    monty_opens = np.random.choice(available_doors)\n",
    "    \n",
    "    # The contestant switches to the remaining unopened door\n",
    "    remaining_door = [door for door in [1, 2, 3] if door != initial_choice and door != monty_opens][0]\n",
    "    \n",
    "    # Check if switching results in a win\n",
    "    if remaining_door == winning_door:\n",
    "        switch_wins += 1\n",
    "\n",
    "# Calculate and print the probability of winning by switching\n",
    "probability_of_winning_when_switching = switch_wins / reps\n",
    "print(f\"Probability of winning when switching: {probability_of_winning_when_switching:.4f}\")\n"
   ]
  },
  {
   "cell_type": "markdown",
   "id": "48ed178c",
   "metadata": {},
   "source": [
    "preference:The code is simpler and identifies the remaining unopened door after Monty opens a door. This eliminates unnecessary list manipulations like removing and appending doors."
   ]
  },
  {
   "cell_type": "markdown",
   "id": "561542d7",
   "metadata": {},
   "source": [
    "#### 3. Submit your preferred version of the Monty Hall problem that is verified to be running and working with a final printed output of the code; then, add code comments explaining the purpose of each line of the code<br>"
   ]
  },
  {
   "cell_type": "code",
   "execution_count": 8,
   "id": "22acceb5",
   "metadata": {},
   "outputs": [
    {
     "name": "stdout",
     "output_type": "stream",
     "text": [
      "Probability of winning when switching: 0.6677\n"
     ]
    }
   ],
   "source": [
    "import numpy as np  # Import the NumPy library for random number generation\n",
    "\n",
    "# Number of trials to simulate\n",
    "reps = 100000\n",
    "\n",
    "# Counter for wins when the contestant switches doors\n",
    "switch_wins = 0\n",
    "\n",
    "# Run the simulation 'reps' times\n",
    "for _ in range(reps):\n",
    "    # Randomly select the door that hides the car (1, 2, or 3)\n",
    "    winning_door = np.random.choice([1, 2, 3])\n",
    "    \n",
    "    # The contestant always starts by picking door 1\n",
    "    initial_choice = 1\n",
    "    \n",
    "    # Monty opens a door that does not hide the car and is not the contestant's initial choice\n",
    "    # We create a list of doors that Monty can open (not the winning door, not the initial choice)\n",
    "    available_doors = [door for door in [1, 2, 3] if door != initial_choice and door != winning_door]\n",
    "    \n",
    "    # Monty randomly selects one of the doors from the list to reveal a goat\n",
    "    monty_opens = np.random.choice(available_doors)\n",
    "    \n",
    "    # The contestant now switches to the only remaining door that Monty hasn't opened\n",
    "    remaining_door = [door for door in [1, 2, 3] if door != initial_choice and door != monty_opens][0]\n",
    "    \n",
    "    # Check if the contestant's new choice (after switching) is the winning door\n",
    "    if remaining_door == winning_door:\n",
    "        # If the contestant wins by switching, increment the counter\n",
    "        switch_wins += 1\n",
    "\n",
    "# Calculate the probability of winning when switching doors\n",
    "probability_of_winning_when_switching = switch_wins / reps\n",
    "\n",
    "# Print the probability (formatted to 4 decimal places for readability)\n",
    "print(f\"Probability of winning when switching: {probability_of_winning_when_switching:.4f}\")\n"
   ]
  },
  {
   "cell_type": "markdown",
   "id": "0d3aa612",
   "metadata": {},
   "source": [
    "Code Comments Breakdown:\n",
    "import numpy as np:\n",
    "It means choosing a random door.\n",
    "reps = 100000:\n",
    "It means we repeat the trial for 100000 times to ensure the reliability of data. This ensures we get a good approximation of the probability of winning when switching doors.\n",
    "switch_wins = 0:\n",
    "Initialize a counter switch_wins to keep track of the number of times the contestant wins by switching doors.\n",
    "for _ in range(reps)::\n",
    "Start a loop that runs the simulation for the specified number of trials (reps). The underscore (_) is used as a placeholder variable since we don't need to track the loop index.\n",
    "winning_door = np.random.choice([1, 2, 3]):\n",
    "Randomly select one of the doors (1, 2, or 3) to hide the car. This simulates the placement of the prize behind one door.\n",
    "initial_choice = 1:\n",
    "The contestant always picks door 1 initially. We fix this for simplicity, but the simulation works the same regardless of the initial choice.\n",
    "available_doors = [door for door in [1, 2, 3] if door != initial_choice and door != winning_door]:\n",
    "Create a list of doors that Monty can open. These are doors that do not hide the car (i.e., door != winning_door) and are not the contestant’s initial choice (i.e., door != initial_choice).\n",
    "monty_opens = np.random.choice(available_doors):\n",
    "Monty randomly selects one of the doors from the list available_doors to reveal a goat. This simulates Monty’s action of opening a door with a goat behind it.\n",
    "remaining_door = [door for door in [1, 2, 3] if door != initial_choice and door != monty_opens][0]:\n",
    "Identify the only remaining unopened door, which will be the contestant's new choice after they switch. The list comprehension filters out the initial choice and the door Monty opened.\n",
    "if remaining_door == winning_door::\n",
    "Check if the door that the contestant switched to is the winning door (i.e., it has the car behind it).\n",
    "switch_wins += 1:\n",
    "If the contestant wins by switching, increment the switch_wins counter.\n",
    "probability_of_winning_when_switching = switch_wins / reps:\n",
    "After all trials are completed, calculate the probability of winning by switching by dividing the number of wins (switch_wins) by the total number of trials (reps).\n",
    "print(f\"Probability of winning when switching: {probability_of_winning_when_switching:.4f}\"):\n",
    "Print the calculated probability, formatted to four decimal places for readability."
   ]
  },
  {
   "cell_type": "markdown",
   "id": "348e1727",
   "metadata": {},
   "source": [
    "Chatgpt link: https://chatgpt.com/share/66ece2e6-2ed0-800d-90f9-1affba1d3e36"
   ]
  },
  {
   "cell_type": "markdown",
   "id": "119ad69d",
   "metadata": {},
   "source": [
    "#### 4. Watch the embedded video tutorial on Markov chains in the next Jupyter cell below to understand their application and relevance for ChatBots; then, after watching the video, start a new ChatBot session by prompting that you have code that creates a \"Markovian ChatBot\"; show it the first version of the \"Markovian ChatBot code\" below; and interact with the ChatBot session to make sure you understand how the original first version of the \"Markovian ChatBot code\" works<br>\n"
   ]
  },
  {
   "cell_type": "markdown",
   "id": "cbae0170",
   "metadata": {},
   "source": [
    "word_used = dict():\n",
    "This dictionary keeps track of how many times each word has been used (i.e., how often each word appears in the text)."
   ]
  },
  {
   "cell_type": "markdown",
   "id": "b791abc1",
   "metadata": {},
   "source": [
    "next_word = dict():\n",
    "This is a dictionary of dictionaries that tracks how frequently a word is followed by another word. For each word, it holds a dictionary where keys are possible next words, and values represent how often those next words follow the current word."
   ]
  },
  {
   "cell_type": "markdown",
   "id": "b30be0a4",
   "metadata": {},
   "source": [
    "The for loop goes through all words in the words list except the last one (since there's no \"next word\" for the last word). The enumerate() function gives both the index i and the current word word."
   ]
  },
  {
   "cell_type": "markdown",
   "id": "ce5d2352",
   "metadata": {},
   "source": [
    "The code checks if the current word is already in the word_used dictionary. If it is, it increments its count. If not, it initializes the count to 1 and creates an empty dictionary in next_word[word] to start tracking which words follow it."
   ]
  },
  {
   "cell_type": "markdown",
   "id": "7196e18b",
   "metadata": {},
   "source": [
    "After processing the current word, the next word (words[i+1]) is checked within next_word[word]. If this word has already followed the current word before, its count is incremented. If it's a new following word, it's added with an initial count of 1.\n"
   ]
  },
  {
   "cell_type": "markdown",
   "id": "d903a7fd",
   "metadata": {},
   "source": [
    "#### 5. Recreate (or resume) the previous ChatBot session from question \"4\" above, and now  prompt the ChatBot session that you have a couple extensions of the code to show it, and then show it each of the extentions of the \"Markovian ChatBot code\" below in turn\n"
   ]
  },
  {
   "cell_type": "markdown",
   "id": "c01b66b1",
   "metadata": {},
   "source": [
    "I think there are two improvements:\n",
    "1. Character-Specific Markov Chains:\n",
    "The chatbot is now able to generate responses that are specific to individual characters from the avatar dataset.\n",
    "\n",
    "2. Bigrams for Dependency:\n",
    "Instead of tracking just individual words, the code now uses bigrams (pairs of consecutive words) to model the transitions between words. This makes the model more context-aware, as the next word prediction depends on the previous two words rather than just the immediate last word."
   ]
  },
  {
   "cell_type": "markdown",
   "id": "99301b5e",
   "metadata": {},
   "source": [
    "#### 6. Report on your experience interacting with ChatBots to understand the Monte Hall problem and \"Markovian ChatBot\" code"
   ]
  },
  {
   "cell_type": "markdown",
   "id": "6ce2dca9",
   "metadata": {},
   "source": [
    "From my experience with chatbot, the chatbot can quickly give me the feedback. It is really helpful for learning to solve every problems. I can add some modifiers to find more accurate answers. Sometimes the Chatbot is unhelpful. At first, it may give a wrong answer or unrelated-question answers, so I need add more modifiers to find more reliable answers. The Chatbot is useful when learning new staffs. Compared with normal searching website, it is surprising that I can communicate with chatbot, so that the answer is more specific."
   ]
  },
  {
   "cell_type": "markdown",
   "id": "93f6bd71",
   "metadata": {},
   "source": [
    "#### 7. Reflect on your experience interacting with ChatBot and describe how your perception of AI-driven assistance tools in the context of learning coding, statistics, and data science has been evolving (or not) since joining the course<br><br>\n"
   ]
  },
  {
   "cell_type": "markdown",
   "id": "0496c3c1",
   "metadata": {},
   "source": [
    "One of the key benefits of using chatbots in education is the ability to provide personalized support to students and teachers. Chatbots can offer immediate assistance to students who may be struggling with a particular concept or assignment, providing personalized feedback and guidance.By automating certain tasks, such as grading and feedback, chatbots can help reduce the workload for teachers, allowing them to focus on other important tasks like lesson planning and student engagement.\n",
    "\n",
    "While chatbots can provide personalized support, they cannot replace the human interaction that is so important in education. Students and teachers need to be able to interact with each other and build strong relationships, which can be difficult to do with a machine.Chatbots are only as good as the data that is fed into them. They may not be able to understand the nuances of a particular topic or assignment in the same way that a human teacher can.Chatbots are only as unbiased as the data that is fed into them. If the data is biased, then the chatbot may also be biased, which could have serious implications for student learning and success.\n",
    "\n",
    "\n",
    "\n",
    "\n",
    "\n"
   ]
  },
  {
   "cell_type": "markdown",
   "id": "2bca7de5",
   "metadata": {},
   "source": [
    "#### 8. ChatBots consume text data available on the web or platforms, and thus represents a new way to \"search consensensus\" that condenses and summarizes mainstream human thought<br><br>\n"
   ]
  },
  {
   "cell_type": "markdown",
   "id": "7fb605ea",
   "metadata": {},
   "source": [
    "1.The modern world is characterized by constant change, driven by technological advancements, evolving industries, and shifting consumer demands. In this environment, learning and adaptability are essential:\n",
    "\n",
    "Lifelong Learning: Technologies and methodologies are continuously updated. Being able to learn new tools, frameworks, and strategies quickly is vital to staying relevant.\n",
    "Adaptability: In data science, new algorithms, programming languages, or data handling methods are introduced frequently. Professionals who can adapt to these changes are more likely to succeed.\n"
   ]
  },
  {
   "cell_type": "markdown",
   "id": "a9bcdb5d",
   "metadata": {},
   "source": [
    "2.It’s unlikely that one could fully function as a statistician or data scientist without engaging in coding or data analysis. These roles are centered around data, and being able to manipulate, analyze, and model data typically requires programming skills and a strong statistical background. While it’s possible to focus more on the theoretical or strategic aspects, eventually you’ll need to understand and work with the technical tools used in these fields."
   ]
  },
  {
   "cell_type": "markdown",
   "id": "d846c5d8",
   "metadata": {},
   "source": [
    "3.https://chatgpt.com/share/66ece2e6-2ed0-800d-90f9-1affba1d3e36\n",
    "https://chatgpt.com/share/66ecef18-8fb8-800d-886b-9ef33e5d9de7\n",
    "https://chatgpt.com/share/66ecef2c-38b0-800d-b7cf-597fe3f0217e"
   ]
  },
  {
   "cell_type": "markdown",
   "id": "8fadc24d",
   "metadata": {},
   "source": [
    "4.Expand my programming skills, focusing on languages commonly used in AI, such as Python.\n",
    "Deepen my knowledge of machine learning algorithms and natural language processing techniques through online courses and practical projects."
   ]
  },
  {
   "cell_type": "markdown",
   "id": "b63fa712",
   "metadata": {},
   "source": [
    "I would look for opportunities to connect with professionals in the field through networking events, industry meetups, or online forums. Engaging in discussions with experienced practitioners could provide valuable, nuanced perspectives. Participating in online communities or platforms focused on natural language processing and AI could facilitate knowledge-sharing and deeper discussions about specific challenges and trends in the field.\n"
   ]
  },
  {
   "cell_type": "markdown",
   "id": "06b53b57",
   "metadata": {},
   "source": [
    "#### 9. Have you reviewed the course [wiki-textbook](https://github.com/pointOfive/stat130chat130/wiki) and interacted with a ChatBot (or, if that wasn't sufficient, real people in the course piazza discussion board or TA office hours) to help you understand all the material in the tutorial and lecture that you didn't quite follow when you first saw it?<br><br>"
   ]
  },
  {
   "cell_type": "markdown",
   "id": "65745530",
   "metadata": {},
   "source": [
    "Yes,I have."
   ]
  },
  {
   "cell_type": "code",
   "execution_count": null,
   "id": "31dbf8de",
   "metadata": {},
   "outputs": [],
   "source": []
  }
 ],
 "metadata": {
  "kernelspec": {
   "display_name": "Python 3 (ipykernel)",
   "language": "python",
   "name": "python3"
  },
  "language_info": {
   "codemirror_mode": {
    "name": "ipython",
    "version": 3
   },
   "file_extension": ".py",
   "mimetype": "text/x-python",
   "name": "python",
   "nbconvert_exporter": "python",
   "pygments_lexer": "ipython3",
   "version": "3.11.6"
  }
 },
 "nbformat": 4,
 "nbformat_minor": 5
}
